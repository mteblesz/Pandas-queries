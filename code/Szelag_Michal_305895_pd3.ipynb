{
 "cells": [
  {
   "cell_type": "code",
   "execution_count": null,
   "metadata": {},
   "outputs": [],
   "source": [
    "import numpy as np\n",
    "import scipy.stats\n",
    "import pandas as pd\n",
    "import matplotlib.pyplot as plt\n",
    "import seaborn as sns\n",
    "import matplotlib\n",
    "import matplotlib.dates as mdates\n",
    "from datetime import datetime\n",
    "from matplotlib import cm\n",
    "\n",
    "pd.set_option(\"display.notebook_repr_html\", False)  # disable \"rich\" output\n",
    "plt.style.use(\"seaborn\")  # plot style\n",
    "\n",
    "sns.set_palette([  # the \"R4\" palette\n",
    "    \"#000000\", \"#DF536B\", \"#61D04F\", \"#2297E6\",\n",
    "    \"#28E2E5\", \"#CD0BBC\", \"#F5C710\", \"#999999\"\n",
    "])\n",
    "\n",
    "plt.rcParams.update({\n",
    "    \"font.size\":         11,\n",
    "    \"font.family\":       \"sans-serif\",\n",
    "    \"font.sans-serif\":   [\"Alegreya Sans\", \"Alegreya\"],\n",
    "    \"figure.autolayout\": True,\n",
    "    \"figure.dpi\":        300,\n",
    "    \"figure.figsize\":    (6, 3.5),  # default is [8.0, 5.5],\n",
    "})"
   ]
  }
 ],
 "metadata": {
  "language_info": {
   "name": "python"
  },
  "orig_nbformat": 4
 },
 "nbformat": 4,
 "nbformat_minor": 2
}
