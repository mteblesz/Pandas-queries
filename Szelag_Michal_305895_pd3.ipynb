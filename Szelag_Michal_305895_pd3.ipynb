{
 "cells": [
  {
   "cell_type": "code",
   "execution_count": 250,
   "metadata": {},
   "outputs": [],
   "source": [
    "import numpy as np\n",
    "import pandas as pd\n",
    "import matplotlib.pyplot as plt\n",
    "import seaborn as sns\n",
    "\n",
    "pd.set_option(\"display.notebook_repr_html\", False)  # disable \"rich\" output\n",
    "plt.style.use(\"seaborn\")  # plot style\n",
    "\n",
    "sns.set_palette([  # the \"R4\" palette\n",
    "    \"#000000\", \"#DF536B\", \"#61D04F\", \"#2297E6\",\n",
    "    \"#28E2E5\", \"#CD0BBC\", \"#F5C710\", \"#999999\"\n",
    "])\n",
    "\n",
    "plt.rcParams.update({\n",
    "    \"font.size\":         11,\n",
    "    \"font.family\":       \"sans-serif\",\n",
    "    \"font.sans-serif\":   [\"Alegreya Sans\", \"Alegreya\"],\n",
    "    \"figure.autolayout\": True,\n",
    "    \"figure.dpi\":        300,\n",
    "    \"figure.figsize\":    (6, 3.5),  # default is [8.0, 5.5],\n",
    "})"
   ]
  },
  {
   "cell_type": "code",
   "execution_count": 251,
   "metadata": {},
   "outputs": [],
   "source": [
    "import os, os.path\n",
    "import sqlite3\n",
    "baza = os.path.join('main.db')"
   ]
  },
  {
   "cell_type": "code",
   "execution_count": 252,
   "metadata": {},
   "outputs": [],
   "source": [
    "Posts = pd.read_csv(\"travel_stackexchange_com/Posts.csv.gz\", compression='gzip')\n",
    "Votes = pd.read_csv(\"travel_stackexchange_com/Votes.csv.gz\", compression='gzip')\n",
    "Badges = pd.read_csv(\"travel_stackexchange_com/Badges.csv.gz\", compression='gzip')\n",
    "Users = pd.read_csv(\"travel_stackexchange_com/Users.csv.gz\", compression='gzip')"
   ]
  },
  {
   "cell_type": "markdown",
   "metadata": {},
   "source": [
    "## Zadanie 1\n",
    "Top 10 etykiet Badge o najwiekszej ilosci wystąpień, z nazwą etykiety i najmniejszą klasą spośród etykiet jednego typu."
   ]
  },
  {
   "cell_type": "code",
   "execution_count": 253,
   "metadata": {},
   "outputs": [],
   "source": [
    "if os.path.isfile(baza):\n",
    "    os.remove(baza)\n",
    "conn = sqlite3.connect(baza)\n",
    "\n",
    "Posts.to_sql(\"Posts\", conn)\n",
    "Badges.to_sql(\"Badges\", conn)\n",
    "\n",
    "resultSQL = pd.read_sql_query(\n",
    "\"\"\"SELECT Name,\n",
    "  COUNT(*) AS Number,\n",
    "  MIN(Class) AS BestClass\n",
    "  FROM Badges\n",
    "  GROUP BY Name\n",
    "  ORDER BY Number DESC\n",
    "  LIMIT 10\n",
    "\"\"\", conn)\n",
    "conn.close()"
   ]
  },
  {
   "cell_type": "code",
   "execution_count": 254,
   "metadata": {},
   "outputs": [],
   "source": [
    "res = Badges.loc[:, (\"Id\", \"Name\", \"Class\")]\n",
    "res = res.groupby([\"Name\"]).agg(Number=('Name', 'count'), \n",
    "                               BestClass=('Class', 'min'))\n",
    "res = res.sort_values(by=['Number'], ascending=False).head(10)\n",
    "resultPd = res.reset_index()"
   ]
  },
  {
   "cell_type": "code",
   "execution_count": 255,
   "metadata": {},
   "outputs": [
    {
     "data": {
      "text/plain": [
       "True"
      ]
     },
     "execution_count": 255,
     "metadata": {},
     "output_type": "execute_result"
    }
   ],
   "source": [
    "resultSQL.equals(resultPd)"
   ]
  },
  {
   "cell_type": "markdown",
   "metadata": {},
   "source": [
    "## Zadanie 2\n",
    "Liczba postów, zamieszczonych przez wszystkich uzytkownikow pochodzących z danej lokacji."
   ]
  },
  {
   "cell_type": "code",
   "execution_count": 256,
   "metadata": {},
   "outputs": [],
   "source": [
    "if os.path.isfile(baza):\n",
    "    os.remove(baza)\n",
    "conn = sqlite3.connect(baza)\n",
    "\n",
    "Posts.to_sql(\"Posts\", conn)\n",
    "Users.to_sql(\"Users\", conn)\n",
    "\n",
    "resultSQL = pd.read_sql_query(\n",
    "\"\"\"SELECT Location, COUNT(*) AS Count\n",
    "  FROM (\n",
    "        SELECT Posts.OwnerUserId, Users.Id, Users.Location\n",
    "        FROM Users\n",
    "        JOIN Posts ON Users.Id = Posts.OwnerUserId\n",
    "        )\n",
    "  WHERE Location NOT IN ('')\n",
    "  GROUP BY Location\n",
    "  ORDER BY Count DESC\n",
    "  LIMIT 10\n",
    "\"\"\", conn)\n",
    "conn.close()"
   ]
  },
  {
   "cell_type": "code",
   "execution_count": 257,
   "metadata": {},
   "outputs": [],
   "source": [
    "res = pd.merge( how = 'inner',\n",
    "    left=Users[['Id', 'Location']], right=Posts[[\"OwnerUserId\"]], \n",
    "    left_on=\"Id\", right_on=\"OwnerUserId\")\n",
    "res = res[['Id', 'Location']]\n",
    "res = res[pd.notna(res['Location'])]\n",
    "res = res.groupby(['Location']).agg(Count=('Id', 'count'))\n",
    "res = res.sort_values(by=['Count'], ascending=False).head(10)\n",
    "resultPd = res.reset_index()"
   ]
  },
  {
   "cell_type": "code",
   "execution_count": 258,
   "metadata": {},
   "outputs": [
    {
     "data": {
      "text/plain": [
       "True"
      ]
     },
     "execution_count": 258,
     "metadata": {},
     "output_type": "execute_result"
    }
   ],
   "source": [
    "resultSQL.equals(resultPd)"
   ]
  },
  {
   "cell_type": "markdown",
   "metadata": {},
   "source": [
    "## Zadanie 3\n",
    "Top 10 postów, które uzyskały najwięcej odpowiedzi."
   ]
  },
  {
   "cell_type": "code",
   "execution_count": 259,
   "metadata": {},
   "outputs": [],
   "source": [
    "if os.path.isfile(baza):\n",
    "    os.remove(baza)\n",
    "conn = sqlite3.connect(baza)\n",
    "\n",
    "Posts.to_sql(\"Posts\", conn)\n",
    "Users.to_sql(\"Users\", conn)\n",
    "\n",
    "resultSQL = pd.read_sql_query(\n",
    "\"\"\"SELECT\n",
    "        Users.AccountId,\n",
    "        Users.DisplayName,\n",
    "        Users.Location,\n",
    "        AVG(PostAuth.AnswersCount) as AverageAnswersCount\n",
    "    FROM\n",
    "        (\n",
    "        SELECT\n",
    "        AnsCount.AnswersCount,\n",
    "        Posts.Id,\n",
    "        Posts.OwnerUserId\n",
    "        FROM \n",
    "            (\n",
    "            SELECT Posts.ParentId, COUNT(*) AS AnswersCount\n",
    "            FROM Posts\n",
    "            WHERE Posts.PostTypeId = 2\n",
    "            GROUP BY Posts.ParentId\n",
    "            ) AS AnsCount\n",
    "        JOIN Posts ON Posts.Id = AnsCount.ParentId\n",
    "        ) AS PostAuth\n",
    "    JOIN Users ON Users.AccountId=PostAuth.OwnerUserId\n",
    "    GROUP BY OwnerUserId\n",
    "    ORDER BY AverageAnswersCount DESC\n",
    "    LIMIT 10\n",
    "\"\"\", conn)\n",
    "conn.close()"
   ]
  },
  {
   "cell_type": "code",
   "execution_count": 260,
   "metadata": {},
   "outputs": [],
   "source": [
    "res = Posts[Posts.PostTypeId == 2][[\"Id\", \"ParentId\", \"PostTypeId\"]]\n",
    "res = res.groupby([\"ParentId\"]).agg(AnswersCount=('Id', 'count'))\n",
    "res = pd.merge(how='inner',\n",
    "    left=Posts[[\"Id\", \"OwnerUserId\"]], right=res, \n",
    "    left_on=\"Id\", right_on=\"ParentId\")\n",
    "res = pd.merge(how='inner',\n",
    "    left=Users[[\"AccountId\"]], right=res,\n",
    "    left_on=\"AccountId\", right_on=\"OwnerUserId\")\n",
    "res = res[[\"AccountId\", \"AnswersCount\"]]\n",
    "res = res.groupby(\"AccountId\").agg(AverageAnswersCount=('AnswersCount', 'mean'))\n",
    "res = pd.merge(how=\"inner\",\n",
    "    left=Users[[\"AccountId\", \"DisplayName\", \"Location\"]], right=res,\n",
    "    on='AccountId')\n",
    "# sortowanie przez drugą kolumne \"AccountId\", żeby kolejność wierszy zzgadzłą się z wersją sql\n",
    "res = res.sort_values(by=['AverageAnswersCount', \"AccountId\"], ascending=False).head(10)\n",
    "res = res.reset_index(drop=True)\n",
    "resultPd = res"
   ]
  },
  {
   "cell_type": "code",
   "execution_count": 261,
   "metadata": {},
   "outputs": [
    {
     "data": {
      "text/plain": [
       "True"
      ]
     },
     "execution_count": 261,
     "metadata": {},
     "output_type": "execute_result"
    }
   ],
   "source": [
    "resultSQL.equals(resultPd)"
   ]
  },
  {
   "cell_type": "markdown",
   "metadata": {},
   "source": [
    "## Zadanie 4\n",
    "Post(typu PostTypeId=1), który w danym roku ma najwięcej UpVote-ów (typu VoteTypeId=2). Wiersze zawierają tytuł rekordowego posta, rok zamieszenia i ilość UpVote-ów (maksimum danego roku)."
   ]
  },
  {
   "cell_type": "code",
   "execution_count": 262,
   "metadata": {},
   "outputs": [],
   "source": [
    "if os.path.isfile(baza):\n",
    "    os.remove(baza)\n",
    "conn = sqlite3.connect(baza)\n",
    "\n",
    "Posts.to_sql(\"Posts\", conn)\n",
    "Votes.to_sql(\"Votes\", conn)\n",
    "\n",
    "resultSQL = pd.read_sql_query(\n",
    "\"\"\"SELECT\n",
    "        Posts.Title,\n",
    "        UpVotesPerYear.Year,\n",
    "        MAX(UpVotesPerYear.Count) AS Count\n",
    "    FROM \n",
    "        (\n",
    "        SELECT\n",
    "            PostId,\n",
    "            COUNT(*) AS Count,\n",
    "            STRFTIME('%Y', Votes.CreationDate) AS Year\n",
    "        FROM Votes\n",
    "        WHERE VoteTypeId=2\n",
    "        GROUP BY PostId, Year\n",
    "        ) AS UpVotesPerYear\n",
    "    JOIN Posts ON Posts.Id=UpVotesPerYear.PostId\n",
    "    WHERE Posts.PostTypeId=1\n",
    "    GROUP BY Year\n",
    "    ORDER BY Year ASC\n",
    "\"\"\", conn)\n",
    "conn.close()"
   ]
  },
  {
   "cell_type": "code",
   "execution_count": 263,
   "metadata": {},
   "outputs": [],
   "source": [
    "res = Votes[Votes.VoteTypeId == 2][[\"PostId\", \"Id\", \"CreationDate\"]]\n",
    "res[\"CreationDate\"] = pd.to_datetime(res['CreationDate'],format='%Y-%m-%d')\n",
    "# astypes applied to Year column for type alignment with SQL version\n",
    "res[\"Year\"] = pd.DatetimeIndex(res['CreationDate']).year\\\n",
    "    .astype('str').astype(object)\n",
    "res = res.groupby([\"PostId\", \"Year\"]).agg(Count=('Id', 'count'))\n",
    "res = res.reset_index()\n",
    "res = pd.merge( how='inner',\n",
    "    left = Posts[Posts.PostTypeId == 1][[\"Id\", \"Title\"]], right=res,\n",
    "    left_on='Id', right_on='PostId')\n",
    "# aggregation with max(Count) without dropping other columns\n",
    "res = res.sort_values('Count',ascending=False)\n",
    "res = res.drop_duplicates(['Year']).sort_index()\n",
    "\n",
    "res = res[['Title', 'Year', 'Count']]\n",
    "resultPd = res.reset_index(drop=True)"
   ]
  },
  {
   "cell_type": "code",
   "execution_count": 264,
   "metadata": {},
   "outputs": [
    {
     "data": {
      "text/plain": [
       "True"
      ]
     },
     "execution_count": 264,
     "metadata": {},
     "output_type": "execute_result"
    }
   ],
   "source": [
    "resultSQL.equals(resultPd)"
   ]
  },
  {
   "cell_type": "markdown",
   "metadata": {},
   "source": [
    "## Zadanie 5\n",
    "Top 10 postów (typu PostTypeId=1), które w latach 2021-2020 uzyskały 0 głosów. Sortowanie względem ilości głosów sprzed 2020 roku."
   ]
  },
  {
   "cell_type": "code",
   "execution_count": 265,
   "metadata": {},
   "outputs": [],
   "source": [
    "if os.path.isfile(baza):\n",
    "    os.remove(baza)\n",
    "conn = sqlite3.connect(baza)\n",
    "\n",
    "Posts.to_sql(\"Posts\", conn)\n",
    "Votes.to_sql(\"Votes\", conn)\n",
    "\n",
    "resultSQL = pd.read_sql_query(\n",
    "\"\"\"SELECT\n",
    "    Posts.Title,\n",
    "    VotesByAge2.OldVotes\n",
    "    FROM Posts\n",
    "    JOIN (\n",
    "        SELECT\n",
    "            PostId,\n",
    "            MAX(CASE WHEN VoteDate = 'new' THEN Total ELSE 0 END) NewVotes,\n",
    "            MAX(CASE WHEN VoteDate = 'old' THEN Total ELSE 0 END) OldVotes,\n",
    "            SUM(Total) AS Votes\n",
    "        FROM (\n",
    "            SELECT\n",
    "              PostId,\n",
    "              CASE STRFTIME('%Y', CreationDate)\n",
    "                WHEN '2021' THEN 'new'\n",
    "                WHEN '2020' THEN 'new'\n",
    "                ELSE 'old'\n",
    "              END VoteDate,\n",
    "              COUNT(*) AS Total\n",
    "            FROM Votes\n",
    "            WHERE VoteTypeId IN (1, 2, 5)\n",
    "            GROUP BY PostId, VoteDate\n",
    "            ) AS VotesByAge\n",
    "        GROUP BY VotesByAge.PostId\n",
    "        HAVING NewVotes=0\n",
    "        ) AS VotesByAge2 ON VotesByAge2.PostId=Posts.ID\n",
    "    WHERE Posts.PostTypeId=1\n",
    "    ORDER BY VotesByAge2.OldVotes DESC\n",
    "    LIMIT 10\n",
    "\"\"\", conn)\n",
    "conn.close()"
   ]
  },
  {
   "cell_type": "code",
   "execution_count": 266,
   "metadata": {},
   "outputs": [],
   "source": [
    "# ignore warnings\n",
    "import warnings\n",
    "warnings.filterwarnings('ignore')"
   ]
  },
  {
   "cell_type": "code",
   "execution_count": 267,
   "metadata": {},
   "outputs": [],
   "source": [
    "res = Votes[Votes.VoteTypeId.isin([1, 2, 5])]\n",
    "res[\"CreationDate\"] = pd.to_datetime(res['CreationDate'],format='%Y-%m-%d')\n",
    "res[\"Year\"] = pd.DatetimeIndex(res['CreationDate']).year\n",
    "res['VoteDate'] = np.where(res['Year'] == 2021, 'NewVotes',\n",
    "                  np.where(res['Year'] == 2020, 'NewVotes', 'OldVotes'))\n",
    "res = res.groupby(['PostId', 'VoteDate']).agg(Total=('Id', 'count'))\n",
    "res = res.reset_index()\n",
    "res = res.pivot(index='PostId', columns='VoteDate', values='Total')\n",
    "res['NewVotes'] = res['NewVotes'].fillna(0)\n",
    "res['OldVotes'] = res['OldVotes'].fillna(0)\n",
    "res = res.groupby('PostId').agg(NewVotes=('NewVotes', 'max'),\n",
    "                                OldVotes=('OldVotes', 'max'))\n",
    "res['Votes'] = np.add(res.NewVotes, res.OldVotes)\n",
    "res = res[res.NewVotes == 0]\n",
    "res = pd.merge(how='inner',\n",
    "    left=Posts[Posts.PostTypeId == 1][['Id', 'Title']], right=res,\n",
    "    left_on='Id', right_on='PostId')\n",
    "# sorting by title for complience with sql version\n",
    "res = res.sort_values(by=[\"OldVotes\", 'Title'], ascending=False).head(10)\n",
    "res = res[['Title', 'OldVotes']]\n",
    "res['OldVotes'] = res['OldVotes'].astype('int64')\n",
    "res = res.reset_index(drop=True)\n",
    "resultPd = res"
   ]
  },
  {
   "cell_type": "code",
   "execution_count": 268,
   "metadata": {},
   "outputs": [
    {
     "data": {
      "text/plain": [
       "True"
      ]
     },
     "execution_count": 268,
     "metadata": {},
     "output_type": "execute_result"
    }
   ],
   "source": [
    "resultSQL.equals(resultPd)"
   ]
  }
 ],
 "metadata": {
  "kernelspec": {
   "display_name": "Python 3.9.12 ('base')",
   "language": "python",
   "name": "python3"
  },
  "language_info": {
   "codemirror_mode": {
    "name": "ipython",
    "version": 3
   },
   "file_extension": ".py",
   "mimetype": "text/x-python",
   "name": "python",
   "nbconvert_exporter": "python",
   "pygments_lexer": "ipython3",
   "version": "3.9.12"
  },
  "orig_nbformat": 4,
  "vscode": {
   "interpreter": {
    "hash": "855d721f18a91ef793bea1e7c756e73b09326fea2f08a816e7599399151b235d"
   }
  }
 },
 "nbformat": 4,
 "nbformat_minor": 2
}
