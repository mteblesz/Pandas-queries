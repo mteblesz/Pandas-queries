{
 "cells": [
  {
   "cell_type": "code",
   "execution_count": 2,
   "metadata": {},
   "outputs": [],
   "source": [
    "import numpy as np\n",
    "import scipy.stats\n",
    "import pandas as pd\n",
    "import matplotlib.pyplot as plt\n",
    "import seaborn as sns\n",
    "import matplotlib\n",
    "import matplotlib.dates as mdates\n",
    "from datetime import datetime\n",
    "from matplotlib import cm\n",
    "\n",
    "pd.set_option(\"display.notebook_repr_html\", False)  # disable \"rich\" output\n",
    "plt.style.use(\"seaborn\")  # plot style\n",
    "\n",
    "sns.set_palette([  # the \"R4\" palette\n",
    "    \"#000000\", \"#DF536B\", \"#61D04F\", \"#2297E6\",\n",
    "    \"#28E2E5\", \"#CD0BBC\", \"#F5C710\", \"#999999\"\n",
    "])\n",
    "\n",
    "plt.rcParams.update({\n",
    "    \"font.size\":         11,\n",
    "    \"font.family\":       \"sans-serif\",\n",
    "    \"font.sans-serif\":   [\"Alegreya Sans\", \"Alegreya\"],\n",
    "    \"figure.autolayout\": True,\n",
    "    \"figure.dpi\":        300,\n",
    "    \"figure.figsize\":    (6, 3.5),  # default is [8.0, 5.5],\n",
    "})"
   ]
  },
  {
   "cell_type": "code",
   "execution_count": 3,
   "metadata": {},
   "outputs": [],
   "source": [
    "import os, os.path\n",
    "import sqlite3\n",
    "baza = os.path.join('main.db')"
   ]
  },
  {
   "cell_type": "code",
   "execution_count": 4,
   "metadata": {},
   "outputs": [],
   "source": [
    "Posts = pd.read_csv(\"travel_stackexchange_com/Posts.csv.gz\", compression='gzip')\n",
    "Votes = pd.read_csv(\"travel_stackexchange_com/Votes.csv.gz\", compression='gzip')\n",
    "Badges = pd.read_csv(\"travel_stackexchange_com/Badges.csv.gz\", compression='gzip')\n",
    "Users = pd.read_csv(\"travel_stackexchange_com/Users.csv.gz\", compression='gzip')"
   ]
  },
  {
   "cell_type": "markdown",
   "metadata": {},
   "source": [
    "## Zadanie 1"
   ]
  },
  {
   "cell_type": "markdown",
   "metadata": {},
   "source": []
  },
  {
   "cell_type": "code",
   "execution_count": 5,
   "metadata": {},
   "outputs": [],
   "source": [
    "if os.path.isfile(baza):\n",
    "    os.remove(baza)\n",
    "conn = sqlite3.connect(baza)\n",
    "\n",
    "Posts.to_sql(\"Posts\", conn)\n",
    "Badges.to_sql(\"Badges\", conn)\n",
    "\n",
    "resultSQL = pd.read_sql_query(\n",
    "\"\"\"SELECT Name,\n",
    "  COUNT(*) AS Number,\n",
    "  MIN(Class) AS BestClass\n",
    "  FROM Badges\n",
    "  GROUP BY Name\n",
    "  ORDER BY Number DESC\n",
    "  LIMIT 10\n",
    "\"\"\", conn)\n",
    "conn.close()"
   ]
  },
  {
   "cell_type": "code",
   "execution_count": 6,
   "metadata": {},
   "outputs": [],
   "source": [
    "res = Badges.loc[:, (\"Id\", \"Name\", \"Class\")]\n",
    "res = res.groupby([\"Name\"]).agg(Number=('Name', 'count'), \n",
    "                               BestClass=('Class', 'min'))\n",
    "res = res.sort_values(by=['Number'], ascending=False)\n",
    "res = res.head(10)\n",
    "res = res.reset_index()\n",
    "resultPd = res"
   ]
  },
  {
   "cell_type": "code",
   "execution_count": 7,
   "metadata": {},
   "outputs": [
    {
     "data": {
      "text/plain": [
       "True"
      ]
     },
     "execution_count": 7,
     "metadata": {},
     "output_type": "execute_result"
    }
   ],
   "source": [
    "resultSQL.equals(resultPd)"
   ]
  },
  {
   "cell_type": "markdown",
   "metadata": {},
   "source": [
    "## Zadanie 2"
   ]
  },
  {
   "cell_type": "code",
   "execution_count": 33,
   "metadata": {},
   "outputs": [],
   "source": [
    "if os.path.isfile(baza):\n",
    "    os.remove(baza)\n",
    "conn = sqlite3.connect(baza)\n",
    "\n",
    "Posts.to_sql(\"Posts\", conn)\n",
    "Users.to_sql(\"Users\", conn)\n",
    "\n",
    "resultSQL = pd.read_sql_query(\n",
    "\"\"\"SELECT Location, COUNT(*) AS Count\n",
    "  FROM (\n",
    "        SELECT Posts.OwnerUserId, Users.Id, Users.Location\n",
    "        FROM Users\n",
    "        JOIN Posts ON Users.Id = Posts.OwnerUserId\n",
    "        )\n",
    "  WHERE Location NOT IN ('')\n",
    "  GROUP BY Location\n",
    "  ORDER BY Count DESC\n",
    "  LIMIT 10\n",
    "\"\"\", conn)\n",
    "conn.close()"
   ]
  },
  {
   "cell_type": "code",
   "execution_count": 37,
   "metadata": {},
   "outputs": [],
   "source": [
    "res = pd.merge( how = 'inner',\n",
    "    left=Users[['Id', 'Location']], right=Posts[[\"OwnerUserId\"]], \n",
    "    left_on=\"Id\", right_on=\"OwnerUserId\")\n",
    "res = res[['Id', 'Location']]\n",
    "res = res[pd.notna(res['Location'])]\n",
    "res = res.groupby(['Location']).agg(Count=('Id', 'count'))\n",
    "res = res.sort_values(by=['Count'], ascending=False)\n",
    "res = res.head(10)\n",
    "res = res.reset_index()\n",
    "resultPd = res"
   ]
  },
  {
   "cell_type": "code",
   "execution_count": 36,
   "metadata": {},
   "outputs": [
    {
     "data": {
      "text/plain": [
       "True"
      ]
     },
     "execution_count": 36,
     "metadata": {},
     "output_type": "execute_result"
    }
   ],
   "source": [
    "resultSQL.equals(resultPd)"
   ]
  },
  {
   "cell_type": "markdown",
   "metadata": {},
   "source": [
    "## Zadanie 3"
   ]
  },
  {
   "cell_type": "code",
   "execution_count": null,
   "metadata": {},
   "outputs": [],
   "source": [
    "if os.path.isfile(baza):\n",
    "    os.remove(baza)\n",
    "conn = sqlite3.connect(baza)\n",
    "\n",
    "Posts.to_sql(\"Posts\", conn)\n",
    "Users.to_sql(\"Users\", conn)\n",
    "#Votes.to_sql(\"Votes\", conn)\n",
    "#Badges.to_sql(\"Badges\", conn)\n",
    "\n",
    "resultSQL = pd.read_sql_query(\n",
    "\"\"\"SELECT\n",
    "        Users.AccountId,\n",
    "        Users.DisplayName,\n",
    "        Users.Location,\n",
    "        AVG(PostAuth.AnswersCount) as AverageAnswersCount\n",
    "    FROM\n",
    "        (\n",
    "        SELECT\n",
    "        AnsCount.AnswersCount,\n",
    "        Posts.Id,\n",
    "        Posts.OwnerUserId\n",
    "        FROM \n",
    "            (\n",
    "            SELECT Posts.ParentId, COUNT(*) AS AnswersCount\n",
    "            FROM Posts\n",
    "            WHERE Posts.PostTypeId = 2\n",
    "            GROUP BY Posts.ParentId\n",
    "            ) AS AnsCount\n",
    "        JOIN Posts ON Posts.Id = AnsCount.ParentId\n",
    "        ) AS PostAuth\n",
    "    JOIN Users ON Users.AccountId=PostAuth.OwnerUserId\n",
    "    GROUP BY OwnerUserId\n",
    "    ORDER BY AverageAnswersCount DESC\n",
    "    LIMIT 10\n",
    "\"\"\", conn)\n",
    "conn.close()"
   ]
  },
  {
   "cell_type": "code",
   "execution_count": null,
   "metadata": {},
   "outputs": [],
   "source": []
  },
  {
   "cell_type": "markdown",
   "metadata": {},
   "source": [
    "## Zadanie 4"
   ]
  },
  {
   "cell_type": "code",
   "execution_count": null,
   "metadata": {},
   "outputs": [],
   "source": [
    "if os.path.isfile(baza):\n",
    "    os.remove(baza)\n",
    "conn = sqlite3.connect(baza)\n",
    "\n",
    "Posts.to_sql(\"Posts\", conn)\n",
    "#Users.to_sql(\"Users\", conn)\n",
    "Votes.to_sql(\"Votes\", conn)\n",
    "#Badges.to_sql(\"Badges\", conn)\n",
    "\n",
    "resultSQL = pd.read_sql_query(\n",
    "\"\"\"SELECT\n",
    "        Posts.Title,\n",
    "        UpVotesPerYear.Year,\n",
    "        MAX(UpVotesPerYear.Count) AS Count\n",
    "    FROM \n",
    "        (\n",
    "        SELECT\n",
    "            PostId,\n",
    "            COUNT(*) AS Count,\n",
    "            STRFTIME('%Y', Votes.CreationDate) AS Year\n",
    "        FROM Votes\n",
    "        WHERE VoteTypeId=2\n",
    "        GROUP BY PostId, Year\n",
    "        ) AS UpVotesPerYear\n",
    "    JOIN Posts ON Posts.Id=UpVotesPerYear.PostId\n",
    "    WHERE Posts.PostTypeId=1\n",
    "    GROUP BY Year\n",
    "    ORDER BY Year ASC\n",
    "\"\"\", conn)\n",
    "conn.close()"
   ]
  },
  {
   "cell_type": "code",
   "execution_count": null,
   "metadata": {},
   "outputs": [],
   "source": []
  },
  {
   "cell_type": "markdown",
   "metadata": {},
   "source": [
    "## Zadanie 5"
   ]
  },
  {
   "cell_type": "code",
   "execution_count": null,
   "metadata": {},
   "outputs": [],
   "source": [
    "if os.path.isfile(baza):\n",
    "    os.remove(baza)\n",
    "conn = sqlite3.connect(baza)\n",
    "\n",
    "Posts.to_sql(\"Posts\", conn)\n",
    "#Users.to_sql(\"Users\", conn)\n",
    "Votes.to_sql(\"Votes\", conn)\n",
    "#Badges.to_sql(\"Badges\", conn)\n",
    "\n",
    "resultSQL = pd.read_sql_query(\n",
    "\"\"\"SELECT\n",
    "    Posts.Title,\n",
    "    VotesByAge2.OldVotes\n",
    "    FROM Posts\n",
    "    JOIN (\n",
    "        SELECT\n",
    "            PostId,\n",
    "            MAX(CASE WHEN VoteDate = 'new' THEN Total ELSE 0 END) NewVotes,\n",
    "            MAX(CASE WHEN VoteDate = 'old' THEN Total ELSE 0 END) OldVotes,\n",
    "            SUM(Total) AS Votes\n",
    "        FROM (\n",
    "            SELECT\n",
    "              PostId,\n",
    "              CASE STRFTIME('%Y', CreationDate)\n",
    "                WHEN '2021' THEN 'new'\n",
    "                WHEN '2020' THEN 'new'\n",
    "                ELSE 'old'\n",
    "              END VoteDate,\n",
    "              COUNT(*) AS Total\n",
    "            FROM Votes\n",
    "            WHERE VoteTypeId IN (1, 2, 5)\n",
    "            GROUP BY PostId, VoteDate\n",
    "            ) AS VotesByAge\n",
    "        GROUP BY VotesByAge.PostId\n",
    "        HAVING NewVotes=0\n",
    "        ) AS VotesByAge2 ON VotesByAge2.PostId=Posts.ID\n",
    "    WHERE Posts.PostTypeId=1\n",
    "    ORDER BY VotesByAge2.OldVotes DESC\n",
    "    LIMIT 10\n",
    "\"\"\", conn)\n",
    "conn.close()"
   ]
  },
  {
   "cell_type": "code",
   "execution_count": null,
   "metadata": {},
   "outputs": [],
   "source": []
  }
 ],
 "metadata": {
  "kernelspec": {
   "display_name": "Python 3.9.12 ('base')",
   "language": "python",
   "name": "python3"
  },
  "language_info": {
   "codemirror_mode": {
    "name": "ipython",
    "version": 3
   },
   "file_extension": ".py",
   "mimetype": "text/x-python",
   "name": "python",
   "nbconvert_exporter": "python",
   "pygments_lexer": "ipython3",
   "version": "3.9.12"
  },
  "orig_nbformat": 4,
  "vscode": {
   "interpreter": {
    "hash": "855d721f18a91ef793bea1e7c756e73b09326fea2f08a816e7599399151b235d"
   }
  }
 },
 "nbformat": 4,
 "nbformat_minor": 2
}
