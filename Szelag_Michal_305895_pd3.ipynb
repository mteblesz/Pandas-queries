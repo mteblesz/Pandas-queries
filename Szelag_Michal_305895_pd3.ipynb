{
 "cells": [
  {
   "cell_type": "code",
   "execution_count": 6,
   "metadata": {},
   "outputs": [],
   "source": [
    "import numpy as np\n",
    "import scipy.stats\n",
    "import pandas as pd\n",
    "import matplotlib.pyplot as plt\n",
    "import seaborn as sns\n",
    "import matplotlib\n",
    "import matplotlib.dates as mdates\n",
    "from datetime import datetime\n",
    "from matplotlib import cm\n",
    "\n",
    "pd.set_option(\"display.notebook_repr_html\", False)  # disable \"rich\" output\n",
    "plt.style.use(\"seaborn\")  # plot style\n",
    "\n",
    "sns.set_palette([  # the \"R4\" palette\n",
    "    \"#000000\", \"#DF536B\", \"#61D04F\", \"#2297E6\",\n",
    "    \"#28E2E5\", \"#CD0BBC\", \"#F5C710\", \"#999999\"\n",
    "])\n",
    "\n",
    "plt.rcParams.update({\n",
    "    \"font.size\":         11,\n",
    "    \"font.family\":       \"sans-serif\",\n",
    "    \"font.sans-serif\":   [\"Alegreya Sans\", \"Alegreya\"],\n",
    "    \"figure.autolayout\": True,\n",
    "    \"figure.dpi\":        300,\n",
    "    \"figure.figsize\":    (6, 3.5),  # default is [8.0, 5.5],\n",
    "})"
   ]
  },
  {
   "cell_type": "code",
   "execution_count": null,
   "metadata": {},
   "outputs": [],
   "source": [
    "import os, os.path\n",
    "import sqlite3\n",
    "baza = os.path.join('main.db')"
   ]
  },
  {
   "cell_type": "code",
   "execution_count": 11,
   "metadata": {},
   "outputs": [],
   "source": [
    "Posts = pd.read_csv(\"travel_stackexchange_com/Posts.csv.gz\", compression='gzip')\n",
    "Votes = pd.read_csv(\"travel_stackexchange_com/Votes.csv.gz\", compression='gzip')\n",
    "Badges = pd.read_csv(\"travel_stackexchange_com/Badges.csv.gz\", compression='gzip')\n",
    "Users = pd.read_csv(\"travel_stackexchange_com/Users.csv.gz\", compression='gzip')"
   ]
  },
  {
   "cell_type": "markdown",
   "metadata": {},
   "source": [
    "## Zadanie 1"
   ]
  },
  {
   "cell_type": "code",
   "execution_count": 51,
   "metadata": {},
   "outputs": [
    {
     "name": "stdout",
     "output_type": "stream",
     "text": [
      "               Name  Number  BestClass\n",
      "0    Autobiographer   24564          3\n",
      "1           Student   23930          3\n",
      "2         Supporter   17826          3\n",
      "3  Popular Question   14840          3\n",
      "4       Nice Answer   12406          3\n",
      "5          Yearling   11281          2\n",
      "6           Teacher    9746          3\n",
      "7            Editor    9115          3\n",
      "8  Notable Question    8613          2\n",
      "9           Scholar    7224          3\n"
     ]
    }
   ],
   "source": [
    "if os.path.isfile(baza):\n",
    "    os.remove(baza)\n",
    "conn = sqlite3.connect(baza)\n",
    "\n",
    "Posts.to_sql(\"Posts\", conn)\n",
    "#Users.to_sql(\"Users\", conn)\n",
    "#Votes.to_sql(\"Votes\", conn)\n",
    "Badges.to_sql(\"Badges\", conn)\n",
    "\n",
    "print(pd.read_sql_query(\n",
    "\"\"\"SELECT Name,\n",
    "  COUNT(*) AS Number,\n",
    "  MIN(Class) AS BestClass\n",
    "  FROM Badges\n",
    "  GROUP BY Name\n",
    "  ORDER BY Number DESC\n",
    "  LIMIT 10\n",
    "\"\"\", conn) )\n",
    "conn.close()"
   ]
  },
  {
   "cell_type": "markdown",
   "metadata": {},
   "source": [
    "## Zadanie 2"
   ]
  },
  {
   "cell_type": "code",
   "execution_count": 53,
   "metadata": {},
   "outputs": [
    {
     "name": "stdout",
     "output_type": "stream",
     "text": [
      "                        Location  Count\n",
      "0      Christchurch, New Zealand   2765\n",
      "1                   New York, NY   1788\n",
      "2         London, United Kingdom   1708\n",
      "3                             UK   1590\n",
      "4  Sunshine Coast QLD, Australia   1550\n",
      "5                      Australia   1183\n",
      "6              Vancouver, Canada    967\n",
      "7                    Netherlands    935\n",
      "8             on the server farm    924\n",
      "9                   Pennsylvania    921\n"
     ]
    }
   ],
   "source": [
    "if os.path.isfile(baza):\n",
    "    os.remove(baza)\n",
    "conn = sqlite3.connect(baza)\n",
    "\n",
    "Posts.to_sql(\"Posts\", conn)\n",
    "Users.to_sql(\"Users\", conn)\n",
    "#Votes.to_sql(\"Votes\", conn)\n",
    "#Badges.to_sql(\"Badges\", conn)\n",
    "\n",
    "print(pd.read_sql_query(\n",
    "\"\"\"SELECT Location, COUNT(*) AS Count\n",
    "  FROM (\n",
    "        SELECT Posts.OwnerUserId, Users.Id, Users.Location\n",
    "        FROM Users\n",
    "        JOIN Posts ON Users.Id = Posts.OwnerUserId\n",
    "        )\n",
    "  WHERE Location NOT IN ('')\n",
    "  GROUP BY Location\n",
    "  ORDER BY Count DESC\n",
    "  LIMIT 10\n",
    "\"\"\", conn) )\n",
    "conn.close()"
   ]
  },
  {
   "cell_type": "code",
   "execution_count": null,
   "metadata": {},
   "outputs": [],
   "source": []
  },
  {
   "cell_type": "markdown",
   "metadata": {},
   "source": [
    "## Zadanie 3"
   ]
  },
  {
   "cell_type": "code",
   "execution_count": 54,
   "metadata": {},
   "outputs": [
    {
     "name": "stdout",
     "output_type": "stream",
     "text": [
      "   AccountId      DisplayName           Location  AverageAnswersCount\n",
      "0    40811.0           vocaro       San Jose, CA                 11.0\n",
      "1      280.0            csmba  San Francisco, CA                 11.0\n",
      "2    44093.0    Emma Arbogast          Salem, OR                 10.0\n",
      "3      204.0             Josh          Australia                 10.0\n",
      "4    11758.0         rvarcher  Oklahoma City, OK                  9.0\n",
      "5    79346.0  Thomas Matthews         California                  8.0\n",
      "6    54571.0        Christian               None                  8.0\n",
      "7    42364.0         Petrogad               None                  8.0\n",
      "8    20473.0      Jeremy Boyd        Houston, TX                  8.0\n",
      "9    19588.0       JD Isaacks        Atlanta, GA                  8.0\n"
     ]
    }
   ],
   "source": [
    "if os.path.isfile(baza):\n",
    "    os.remove(baza)\n",
    "conn = sqlite3.connect(baza)\n",
    "\n",
    "Posts.to_sql(\"Posts\", conn)\n",
    "Users.to_sql(\"Users\", conn)\n",
    "#Votes.to_sql(\"Votes\", conn)\n",
    "#Badges.to_sql(\"Badges\", conn)\n",
    "\n",
    "print(pd.read_sql_query(\n",
    "\"\"\"SELECT\n",
    "        Users.AccountId,\n",
    "        Users.DisplayName,\n",
    "        Users.Location,\n",
    "        AVG(PostAuth.AnswersCount) as AverageAnswersCount\n",
    "    FROM\n",
    "        (\n",
    "        SELECT\n",
    "        AnsCount.AnswersCount,\n",
    "        Posts.Id,\n",
    "        Posts.OwnerUserId\n",
    "        FROM \n",
    "            (\n",
    "            SELECT Posts.ParentId, COUNT(*) AS AnswersCount\n",
    "            FROM Posts\n",
    "            WHERE Posts.PostTypeId = 2\n",
    "            GROUP BY Posts.ParentId\n",
    "            ) AS AnsCount\n",
    "        JOIN Posts ON Posts.Id = AnsCount.ParentId\n",
    "        ) AS PostAuth\n",
    "    JOIN Users ON Users.AccountId=PostAuth.OwnerUserId\n",
    "    GROUP BY OwnerUserId\n",
    "    ORDER BY AverageAnswersCount DESC\n",
    "    LIMIT 10\n",
    "\"\"\", conn) )\n",
    "conn.close()"
   ]
  },
  {
   "cell_type": "code",
   "execution_count": null,
   "metadata": {},
   "outputs": [],
   "source": []
  },
  {
   "cell_type": "markdown",
   "metadata": {},
   "source": [
    "## Zadanie 4"
   ]
  },
  {
   "cell_type": "code",
   "execution_count": 55,
   "metadata": {},
   "outputs": [
    {
     "name": "stdout",
     "output_type": "stream",
     "text": [
      "                                                Title  Year  Count\n",
      "0   OK we're all adults here, so really, how on ea...  2011     70\n",
      "1     How to successfully haggle / bargain in markets  2012     37\n",
      "2   Why are airline passengers asked to lift up wi...  2013    103\n",
      "3   How do you know if Americans genuinely/literal...  2014    179\n",
      "4   Immigration officer that stopped me at the air...  2015    117\n",
      "5   I don't know my nationality. How can I visit D...  2016    134\n",
      "6                        Why prohibit engine braking?  2017    177\n",
      "7   How can I find restaurants in the USA where ti...  2018    119\n",
      "8   My name causes an issue with any booking! (nam...  2019    263\n",
      "9   What's the longest distance that can be travel...  2020    110\n",
      "10  Positive drug test in Singapore: How long do I...  2021     61\n"
     ]
    }
   ],
   "source": [
    "if os.path.isfile(baza):\n",
    "    os.remove(baza)\n",
    "conn = sqlite3.connect(baza)\n",
    "\n",
    "Posts.to_sql(\"Posts\", conn)\n",
    "#Users.to_sql(\"Users\", conn)\n",
    "Votes.to_sql(\"Votes\", conn)\n",
    "#Badges.to_sql(\"Badges\", conn)\n",
    "\n",
    "print(pd.read_sql_query(\n",
    "\"\"\"SELECT\n",
    "        Posts.Title,\n",
    "        UpVotesPerYear.Year,\n",
    "        MAX(UpVotesPerYear.Count) AS Count\n",
    "    FROM \n",
    "        (\n",
    "        SELECT\n",
    "            PostId,\n",
    "            COUNT(*) AS Count,\n",
    "            STRFTIME('%Y', Votes.CreationDate) AS Year\n",
    "        FROM Votes\n",
    "        WHERE VoteTypeId=2\n",
    "        GROUP BY PostId, Year\n",
    "        ) AS UpVotesPerYear\n",
    "    JOIN Posts ON Posts.Id=UpVotesPerYear.PostId\n",
    "    WHERE Posts.PostTypeId=1\n",
    "    GROUP BY Year\n",
    "    ORDER BY Year ASC\n",
    "\"\"\", conn) )\n",
    "conn.close()"
   ]
  },
  {
   "cell_type": "code",
   "execution_count": null,
   "metadata": {},
   "outputs": [],
   "source": []
  },
  {
   "cell_type": "markdown",
   "metadata": {},
   "source": [
    "## Zadanie 5"
   ]
  },
  {
   "cell_type": "code",
   "execution_count": 56,
   "metadata": {},
   "outputs": [
    {
     "name": "stdout",
     "output_type": "stream",
     "text": [
      "                                               Title  OldVotes\n",
      "0                       How to avoid drinking vodka?       200\n",
      "1         How can I do a \"broad\" search for flights?       175\n",
      "2  How to convince airport security that I am not...       119\n",
      "3        Can I accidentally miss the in-flight food?       114\n",
      "4  How can black travellers deal with unwanted ha...       108\n",
      "5             Why are there no seat belts on trains?       106\n",
      "6  How do you avoid \"tourist traps\" when travelin...       104\n",
      "7                         Can I fly with a gold bar?       102\n",
      "8  Best way to dispose of a carry-on bag in Hong ...        99\n",
      "9    How to successfully haggle / bargain in markets        97\n"
     ]
    }
   ],
   "source": [
    "if os.path.isfile(baza):\n",
    "    os.remove(baza)\n",
    "conn = sqlite3.connect(baza)\n",
    "\n",
    "Posts.to_sql(\"Posts\", conn)\n",
    "#Users.to_sql(\"Users\", conn)\n",
    "Votes.to_sql(\"Votes\", conn)\n",
    "#Badges.to_sql(\"Badges\", conn)\n",
    "\n",
    "print(pd.read_sql_query(\n",
    "\"\"\"SELECT\n",
    "    Posts.Title,\n",
    "    VotesByAge2.OldVotes\n",
    "    FROM Posts\n",
    "    JOIN (\n",
    "        SELECT\n",
    "            PostId,\n",
    "            MAX(CASE WHEN VoteDate = 'new' THEN Total ELSE 0 END) NewVotes,\n",
    "            MAX(CASE WHEN VoteDate = 'old' THEN Total ELSE 0 END) OldVotes,\n",
    "            SUM(Total) AS Votes\n",
    "        FROM (\n",
    "            SELECT\n",
    "              PostId,\n",
    "              CASE STRFTIME('%Y', CreationDate)\n",
    "                WHEN '2021' THEN 'new'\n",
    "                WHEN '2020' THEN 'new'\n",
    "                ELSE 'old'\n",
    "              END VoteDate,\n",
    "              COUNT(*) AS Total\n",
    "            FROM Votes\n",
    "            WHERE VoteTypeId IN (1, 2, 5)\n",
    "            GROUP BY PostId, VoteDate\n",
    "            ) AS VotesByAge\n",
    "        GROUP BY VotesByAge.PostId\n",
    "        HAVING NewVotes=0\n",
    "        ) AS VotesByAge2 ON VotesByAge2.PostId=Posts.ID\n",
    "    WHERE Posts.PostTypeId=1\n",
    "    ORDER BY VotesByAge2.OldVotes DESC\n",
    "    LIMIT 10\n",
    "\"\"\", conn) )\n",
    "conn.close()"
   ]
  },
  {
   "cell_type": "code",
   "execution_count": null,
   "metadata": {},
   "outputs": [],
   "source": []
  }
 ],
 "metadata": {
  "kernelspec": {
   "display_name": "Python 3.9.12 ('base')",
   "language": "python",
   "name": "python3"
  },
  "language_info": {
   "codemirror_mode": {
    "name": "ipython",
    "version": 3
   },
   "file_extension": ".py",
   "mimetype": "text/x-python",
   "name": "python",
   "nbconvert_exporter": "python",
   "pygments_lexer": "ipython3",
   "version": "3.9.12"
  },
  "orig_nbformat": 4,
  "vscode": {
   "interpreter": {
    "hash": "855d721f18a91ef793bea1e7c756e73b09326fea2f08a816e7599399151b235d"
   }
  }
 },
 "nbformat": 4,
 "nbformat_minor": 2
}
